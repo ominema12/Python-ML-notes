{
 "cells": [
  {
   "cell_type": "code",
   "execution_count": 1,
   "id": "0aa543ea",
   "metadata": {},
   "outputs": [
    {
     "data": {
      "text/plain": [
       "12"
      ]
     },
     "execution_count": 1,
     "metadata": {},
     "output_type": "execute_result"
    }
   ],
   "source": [
    "10+2\n"
   ]
  },
  {
   "cell_type": "code",
   "execution_count": 3,
   "id": "e7386aa8",
   "metadata": {},
   "outputs": [
    {
     "data": {
      "text/plain": [
       "69"
      ]
     },
     "execution_count": 3,
     "metadata": {},
     "output_type": "execute_result"
    }
   ],
   "source": [
    "10+59"
   ]
  },
  {
   "cell_type": "code",
   "execution_count": 4,
   "id": "ae288cd4",
   "metadata": {},
   "outputs": [
    {
     "name": "stdout",
     "output_type": "stream",
     "text": [
      "omi nema ka boyfriend chutiyaa hai\n"
     ]
    }
   ],
   "source": [
    "print('omi nema ka boyfriend chutiyaa hai')"
   ]
  },
  {
   "cell_type": "markdown",
   "id": "4ad31085",
   "metadata": {},
   "source": [
    "# omi nema"
   ]
  },
  {
   "cell_type": "code",
   "execution_count": 8,
   "id": "1dfa8e47",
   "metadata": {},
   "outputs": [
    {
     "name": "stdout",
     "output_type": "stream",
     "text": [
      "11\n",
      "10.365\n"
     ]
    }
   ],
   "source": [
    "print (round(10.6355))\n",
    "print(round(10.3654,3))"
   ]
  },
  {
   "cell_type": "code",
   "execution_count": 9,
   "id": "4f9411b7",
   "metadata": {},
   "outputs": [
    {
     "name": "stdout",
     "output_type": "stream",
     "text": [
      "<class 'complex'>\n",
      "15.132745950421556\n"
     ]
    }
   ],
   "source": [
    "c=15+2j\n",
    "print (type(c))\n",
    "print (abs(c)) #Convert value in positive \n",
    "print(round(c,3)) # shows error as round function doesn't work on complex no. "
   ]
  },
  {
   "cell_type": "code",
   "execution_count": 16,
   "id": "7d052362",
   "metadata": {},
   "outputs": [
    {
     "name": "stdout",
     "output_type": "stream",
     "text": [
      "5.385164807134504\n"
     ]
    }
   ],
   "source": [
    "complex(5+2j)\n",
    "c=complex('5+2j')\n",
    "print (abs(c))"
   ]
  },
  {
   "cell_type": "code",
   "execution_count": 18,
   "id": "3b1592d6",
   "metadata": {},
   "outputs": [
    {
     "data": {
      "text/plain": [
       "(3, 1)"
      ]
     },
     "execution_count": 18,
     "metadata": {},
     "output_type": "execute_result"
    }
   ],
   "source": [
    "divmod(10,3)"
   ]
  },
  {
   "cell_type": "code",
   "execution_count": 20,
   "id": "2bb672d6",
   "metadata": {},
   "outputs": [],
   "source": [
    "import numpy as np #matrix"
   ]
  },
  {
   "cell_type": "code",
   "execution_count": 22,
   "id": "014e8ce9",
   "metadata": {},
   "outputs": [
    {
     "data": {
      "text/plain": [
       "36"
      ]
     },
     "execution_count": 22,
     "metadata": {},
     "output_type": "execute_result"
    }
   ],
   "source": [
    "round(36.5)"
   ]
  },
  {
   "cell_type": "code",
   "execution_count": 24,
   "id": "8c517bdb",
   "metadata": {},
   "outputs": [
    {
     "name": "stdout",
     "output_type": "stream",
     "text": [
      "28 110 64 333\n",
      "3.14 15000.0\n",
      "(5+3.14j) 3.14 5.0\n"
     ]
    }
   ],
   "source": [
    "b=0b11100\n",
    "d=110\n",
    "o=0o100\n",
    "u=0x14d\n",
    "\n",
    "float_1=3.14\n",
    "float_2=1.5e4\n",
    "\n",
    "c=5+3.14j\n",
    "\n",
    "print(b,d,o,u)\n",
    "print(float_1,float_2)\n",
    "print(c,c.imag,c.real)"
   ]
  },
  {
   "cell_type": "code",
   "execution_count": 26,
   "id": "5777946b",
   "metadata": {},
   "outputs": [],
   "source": [
    "#DATA STRUCTURE are- LIST[] , Dictionary{} ,tuple(), sets{}"
   ]
  },
  {
   "cell_type": "code",
   "execution_count": 27,
   "id": "a1fa0611",
   "metadata": {},
   "outputs": [
    {
     "name": "stdout",
     "output_type": "stream",
     "text": [
      "Enter num 1 :2\n",
      "Enter num 2 :3\n",
      "Data type of num 1 and 2 is : <class 'str'> <class 'str'>\n",
      "23\n",
      "Data type of output is: <class 'str'>\n"
     ]
    }
   ],
   "source": [
    "num1= input(\"Enter num 1 :\")\n",
    "num2= input(\"Enter num 2 :\")\n",
    "print (\"Data type of num 1 and 2 is :\",type(num1),type(num2))\n",
    "add=num1+num2\n",
    "print(add)\n",
    "print(\"Data type of output is:\",type(add))"
   ]
  },
  {
   "cell_type": "code",
   "execution_count": 28,
   "id": "ec2de788",
   "metadata": {},
   "outputs": [
    {
     "name": "stdout",
     "output_type": "stream",
     "text": [
      "Enter num 1 :7\n",
      "Enter num 2 :8\n",
      "Data type of num 1 and 2 is : <class 'int'> <class 'int'>\n",
      "15\n",
      "Data type of output is: <class 'int'>\n"
     ]
    }
   ],
   "source": [
    "num1= int(input(\"Enter num 1 :\"))\n",
    "num2= int(input(\"Enter num 2 :\"))\n",
    "print (\"Data type of num 1 and 2 is :\",type(num1),type(num2))\n",
    "add=num1+num2\n",
    "print(add)\n",
    "print(\"Data type of output is:\",type(add))"
   ]
  },
  {
   "cell_type": "code",
   "execution_count": 30,
   "id": "b406caf1",
   "metadata": {},
   "outputs": [
    {
     "name": "stdout",
     "output_type": "stream",
     "text": [
      "20 10\n"
     ]
    }
   ],
   "source": [
    "a=10\n",
    "b=20\n",
    "a,b=b,a\n",
    "print(a,b)"
   ]
  },
  {
   "cell_type": "code",
   "execution_count": 31,
   "id": "f0469d66",
   "metadata": {},
   "outputs": [
    {
     "name": "stdout",
     "output_type": "stream",
     "text": [
      "50 10\n"
     ]
    }
   ],
   "source": [
    "a=10\n",
    "b=50\n",
    "a=a+b\n",
    "b=a-b\n",
    "a=a-b\n",
    "print(a,b)"
   ]
  }
 ],
 "metadata": {
  "kernelspec": {
   "display_name": "Python 3 (ipykernel)",
   "language": "python",
   "name": "python3"
  },
  "language_info": {
   "codemirror_mode": {
    "name": "ipython",
    "version": 3
   },
   "file_extension": ".py",
   "mimetype": "text/x-python",
   "name": "python",
   "nbconvert_exporter": "python",
   "pygments_lexer": "ipython3",
   "version": "3.9.13"
  }
 },
 "nbformat": 4,
 "nbformat_minor": 5
}
