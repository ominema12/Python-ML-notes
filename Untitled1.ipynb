{
 "cells": [
  {
   "cell_type": "code",
   "execution_count": 3,
   "id": "af2d87d4",
   "metadata": {},
   "outputs": [
    {
     "name": "stdout",
     "output_type": "stream",
     "text": [
      "['James', 455, 24, \"Pan's\"]\n",
      "['James', 455, 24, \"Pan's\", 354, 'Andrew']\n"
     ]
    }
   ],
   "source": [
    "#LIST\n",
    "\n",
    "list_2=['James',455,24,\"Pan's\"]\n",
    "list_1=[354,'Andrew']\n",
    "print(list_2)\n",
    "print(list_2+list_1)"
   ]
  },
  {
   "cell_type": "code",
   "execution_count": 4,
   "id": "30802e96",
   "metadata": {},
   "outputs": [
    {
     "name": "stdout",
     "output_type": "stream",
     "text": [
      "(10, 20, 'Dave', [1, 2, 3, 4])\n"
     ]
    }
   ],
   "source": [
    "#TUPLE\n",
    "\n",
    "tup= (10,20,\"Dave\",[1,2,3,4])\n",
    "print(tup)"
   ]
  },
  {
   "cell_type": "code",
   "execution_count": 5,
   "id": "49eacfa7",
   "metadata": {},
   "outputs": [
    {
     "data": {
      "text/plain": [
       "list"
      ]
     },
     "execution_count": 5,
     "metadata": {},
     "output_type": "execute_result"
    }
   ],
   "source": [
    "type(list_2)"
   ]
  },
  {
   "cell_type": "code",
   "execution_count": 6,
   "id": "378cda2f",
   "metadata": {},
   "outputs": [
    {
     "data": {
      "text/plain": [
       "['James', 455, 24, \"Pan's\", (10, 20, 'Dave', [1, 2, 3, 4])]"
      ]
     },
     "execution_count": 6,
     "metadata": {},
     "output_type": "execute_result"
    }
   ],
   "source": [
    "list_2=['James',455,24,\"Pan's\",tup]\n",
    "list_2\n",
    "\n"
   ]
  },
  {
   "cell_type": "code",
   "execution_count": 7,
   "id": "4e03d2f7",
   "metadata": {},
   "outputs": [
    {
     "data": {
      "text/plain": [
       "list"
      ]
     },
     "execution_count": 7,
     "metadata": {},
     "output_type": "execute_result"
    }
   ],
   "source": [
    "type(list_2)"
   ]
  },
  {
   "cell_type": "code",
   "execution_count": 8,
   "id": "7a78ae8a",
   "metadata": {},
   "outputs": [
    {
     "name": "stdout",
     "output_type": "stream",
     "text": [
      "{'name': 'Peter', 'Age': 22, 'Roll no': 139105212}\n"
     ]
    }
   ],
   "source": [
    "#DICTIONARY-stores data in key value pair\n",
    "\n",
    "dict_1={'name':'Peter','Age':22,'Roll no':139105212}\n",
    "print(dict_1)"
   ]
  },
  {
   "cell_type": "code",
   "execution_count": 9,
   "id": "bebdfa4f",
   "metadata": {},
   "outputs": [
    {
     "name": "stdout",
     "output_type": "stream",
     "text": [
      "{'grapes', 'apple', 'banana', 'mango'}\n"
     ]
    }
   ],
   "source": [
    "#SET\n",
    "\n",
    "set_1={'apple','banana','mango','grapes'}\n",
    "print(set_1)"
   ]
  },
  {
   "cell_type": "code",
   "execution_count": 11,
   "id": "88814a07",
   "metadata": {},
   "outputs": [
    {
     "name": "stdout",
     "output_type": "stream",
     "text": [
      "{'c', 'b', 'e', 'a', 'd'}\n"
     ]
    }
   ],
   "source": [
    "set_2={\"a\",\"b\",\"c\",\"d\",\"e\",\"b\",\"c\"}\n",
    "print(set_2)"
   ]
  },
  {
   "cell_type": "code",
   "execution_count": 15,
   "id": "67b15ac0",
   "metadata": {},
   "outputs": [
    {
     "name": "stdout",
     "output_type": "stream",
     "text": [
      "['a', 'b', 'c', ['value1', 'value2', ['valuea', 'valueb']]]\n"
     ]
    }
   ],
   "source": [
    "a=[\"a\",\"b\",\"c\"]\n",
    "a.append([\"value1\",\"value2\",[\"valuea\",\"valueb\"]])\n",
    "print(a)\n"
   ]
  },
  {
   "cell_type": "code",
   "execution_count": null,
   "id": "f0b26501",
   "metadata": {},
   "outputs": [],
   "source": [
    "a=input(string)"
   ]
  },
  {
   "cell_type": "code",
   "execution_count": null,
   "id": "460226e6",
   "metadata": {},
   "outputs": [],
   "source": []
  },
  {
   "cell_type": "code",
   "execution_count": null,
   "id": "a232d819",
   "metadata": {},
   "outputs": [],
   "source": []
  },
  {
   "cell_type": "code",
   "execution_count": null,
   "id": "46618771",
   "metadata": {},
   "outputs": [],
   "source": []
  },
  {
   "cell_type": "code",
   "execution_count": null,
   "id": "93cbf155",
   "metadata": {},
   "outputs": [],
   "source": []
  },
  {
   "cell_type": "code",
   "execution_count": 18,
   "id": "c2bb8bf1",
   "metadata": {},
   "outputs": [
    {
     "data": {
      "text/plain": [
       "['value1', 'value2', ['valuea', 'valueb']]"
      ]
     },
     "execution_count": 18,
     "metadata": {},
     "output_type": "execute_result"
    }
   ],
   "source": [
    "a[-1]"
   ]
  },
  {
   "cell_type": "code",
   "execution_count": 17,
   "id": "c475413b",
   "metadata": {},
   "outputs": [
    {
     "data": {
      "text/plain": [
       "['valuea', 'valueb']"
      ]
     },
     "execution_count": 17,
     "metadata": {},
     "output_type": "execute_result"
    }
   ],
   "source": [
    "a[-1][-1]"
   ]
  },
  {
   "cell_type": "code",
   "execution_count": 20,
   "id": "e96d6c52",
   "metadata": {},
   "outputs": [
    {
     "name": "stdout",
     "output_type": "stream",
     "text": [
      "valuea\n",
      "valueb\n"
     ]
    }
   ],
   "source": [
    "print(a[-1][-1][0])\n",
    "print(a[-1][-1][-1])"
   ]
  },
  {
   "cell_type": "code",
   "execution_count": 21,
   "id": "2cb2dede",
   "metadata": {},
   "outputs": [
    {
     "name": "stdout",
     "output_type": "stream",
     "text": [
      "['a', 'b', 'c', ['value1', 'value2', ['valuea', 99]]]\n"
     ]
    }
   ],
   "source": [
    "a[-1][2][-1]=99\n",
    "print(a)"
   ]
  },
  {
   "cell_type": "code",
   "execution_count": 22,
   "id": "829a1725",
   "metadata": {},
   "outputs": [
    {
     "data": {
      "text/plain": [
       "'value1'"
      ]
     },
     "execution_count": 22,
     "metadata": {},
     "output_type": "execute_result"
    }
   ],
   "source": [
    "a[3][0]"
   ]
  },
  {
   "cell_type": "code",
   "execution_count": 27,
   "id": "61572bd7",
   "metadata": {},
   "outputs": [
    {
     "name": "stdout",
     "output_type": "stream",
     "text": [
      "['x', 'e', 'c', 'd', 'b', 'a']\n",
      "['a', 'b', 'c', 'd', 'e', 'x']\n"
     ]
    }
   ],
   "source": [
    "new_list=['a','b','d','c','e','x']\n",
    "new_list.reverse()\n",
    "print(new_list)\n",
    "new_list.sort()\n",
    "print(new_list)"
   ]
  },
  {
   "cell_type": "code",
   "execution_count": 29,
   "id": "f7cf4486",
   "metadata": {},
   "outputs": [
    {
     "name": "stdout",
     "output_type": "stream",
     "text": [
      "[[1, 2, 3], [4, 5, 6], [7, 8, 9]]\n"
     ]
    }
   ],
   "source": [
    "list_1=[1,2,3]\n",
    "list_2=[4,5,6]\n",
    "list_3=[7,8,9]\n",
    "matrix=[list_1,list_2,list_3]\n",
    "print(matrix)"
   ]
  },
  {
   "cell_type": "code",
   "execution_count": 30,
   "id": "fb947642",
   "metadata": {},
   "outputs": [
    {
     "data": {
      "text/plain": [
       "1"
      ]
     },
     "execution_count": 30,
     "metadata": {},
     "output_type": "execute_result"
    }
   ],
   "source": [
    "matrix[0][0]"
   ]
  },
  {
   "cell_type": "code",
   "execution_count": 32,
   "id": "79fe53c3",
   "metadata": {},
   "outputs": [
    {
     "name": "stdout",
     "output_type": "stream",
     "text": [
      "['a', 'b', 'c', 'd', 'e', 'x']\n"
     ]
    }
   ],
   "source": [
    "new_list.sort(reverse=False)\n",
    "print(new_list)"
   ]
  },
  {
   "cell_type": "code",
   "execution_count": 33,
   "id": "d0bc40cc",
   "metadata": {},
   "outputs": [
    {
     "name": "stdout",
     "output_type": "stream",
     "text": [
      "['x', 'e', 'd', 'c', 'b', 'a']\n"
     ]
    }
   ],
   "source": [
    "new_list.sort(reverse=True)\n",
    "print(new_list)"
   ]
  },
  {
   "cell_type": "code",
   "execution_count": 54,
   "id": "e4ba645f",
   "metadata": {},
   "outputs": [
    {
     "ename": "IndentationError",
     "evalue": "unexpected indent (2148474480.py, line 3)",
     "output_type": "error",
     "traceback": [
      "\u001b[1;36m  File \u001b[1;32m\"C:\\Users\\HP\\AppData\\Local\\Temp\\ipykernel_28584\\2148474480.py\"\u001b[1;36m, line \u001b[1;32m3\u001b[0m\n\u001b[1;33m    l1.sort()\u001b[0m\n\u001b[1;37m    ^\u001b[0m\n\u001b[1;31mIndentationError\u001b[0m\u001b[1;31m:\u001b[0m unexpected indent\n"
     ]
    }
   ],
   "source": [
    "l1 = ['1','8','7','2','21','15']\n",
    "print(l1)\n",
    "# l1.sort() #sorts the list\n",
    "# l1.reverse() #reverses the list\n",
    "# l1.append(45) # adds at the end of the list\n",
    "# l1.insert(2,54) #inserts 54 at index 2\n",
    "# l1.pop(2) #removes element at index 2\n",
    "# l1.remove(21) #removes 21 from the list\n",
    "print(l1)"
   ]
  },
  {
   "cell_type": "code",
   "execution_count": 40,
   "id": "eb222b12",
   "metadata": {},
   "outputs": [],
   "source": [
    "my_dict={'key1':'value1','key2':'value2'}"
   ]
  },
  {
   "cell_type": "code",
   "execution_count": 39,
   "id": "aa409835",
   "metadata": {},
   "outputs": [
    {
     "data": {
      "text/plain": [
       "'value2'"
      ]
     },
     "execution_count": 39,
     "metadata": {},
     "output_type": "execute_result"
    }
   ],
   "source": [
    "my_dict['key2']"
   ]
  },
  {
   "cell_type": "code",
   "execution_count": null,
   "id": "48f3ba1e",
   "metadata": {},
   "outputs": [],
   "source": []
  }
 ],
 "metadata": {
  "kernelspec": {
   "display_name": "Python 3 (ipykernel)",
   "language": "python",
   "name": "python3"
  },
  "language_info": {
   "codemirror_mode": {
    "name": "ipython",
    "version": 3
   },
   "file_extension": ".py",
   "mimetype": "text/x-python",
   "name": "python",
   "nbconvert_exporter": "python",
   "pygments_lexer": "ipython3",
   "version": "3.9.13"
  }
 },
 "nbformat": 4,
 "nbformat_minor": 5
}
